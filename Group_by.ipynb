{
 "cells": [
  {
   "cell_type": "code",
   "execution_count": 1,
   "id": "54d453d3",
   "metadata": {},
   "outputs": [],
   "source": [
    "import numpy as np\n",
    "import pandas as pd\n",
    "import matplotlib.pyplot as plt\n",
    "import seaborn as sns"
   ]
  },
  {
   "cell_type": "code",
   "execution_count": 2,
   "id": "0a6ffcf4",
   "metadata": {},
   "outputs": [],
   "source": [
    "df=sns.load_dataset('tips')"
   ]
  },
  {
   "cell_type": "code",
   "execution_count": 3,
   "id": "82f2dbb2",
   "metadata": {},
   "outputs": [
    {
     "data": {
      "text/html": [
       "<div>\n",
       "<style scoped>\n",
       "    .dataframe tbody tr th:only-of-type {\n",
       "        vertical-align: middle;\n",
       "    }\n",
       "\n",
       "    .dataframe tbody tr th {\n",
       "        vertical-align: top;\n",
       "    }\n",
       "\n",
       "    .dataframe thead th {\n",
       "        text-align: right;\n",
       "    }\n",
       "</style>\n",
       "<table border=\"1\" class=\"dataframe\">\n",
       "  <thead>\n",
       "    <tr style=\"text-align: right;\">\n",
       "      <th></th>\n",
       "      <th>total_bill</th>\n",
       "      <th>tip</th>\n",
       "      <th>sex</th>\n",
       "      <th>smoker</th>\n",
       "      <th>day</th>\n",
       "      <th>time</th>\n",
       "      <th>size</th>\n",
       "    </tr>\n",
       "  </thead>\n",
       "  <tbody>\n",
       "    <tr>\n",
       "      <th>0</th>\n",
       "      <td>16.99</td>\n",
       "      <td>1.01</td>\n",
       "      <td>Female</td>\n",
       "      <td>No</td>\n",
       "      <td>Sun</td>\n",
       "      <td>Dinner</td>\n",
       "      <td>2</td>\n",
       "    </tr>\n",
       "    <tr>\n",
       "      <th>1</th>\n",
       "      <td>10.34</td>\n",
       "      <td>1.66</td>\n",
       "      <td>Male</td>\n",
       "      <td>No</td>\n",
       "      <td>Sun</td>\n",
       "      <td>Dinner</td>\n",
       "      <td>3</td>\n",
       "    </tr>\n",
       "    <tr>\n",
       "      <th>2</th>\n",
       "      <td>21.01</td>\n",
       "      <td>3.50</td>\n",
       "      <td>Male</td>\n",
       "      <td>No</td>\n",
       "      <td>Sun</td>\n",
       "      <td>Dinner</td>\n",
       "      <td>3</td>\n",
       "    </tr>\n",
       "    <tr>\n",
       "      <th>3</th>\n",
       "      <td>23.68</td>\n",
       "      <td>3.31</td>\n",
       "      <td>Male</td>\n",
       "      <td>No</td>\n",
       "      <td>Sun</td>\n",
       "      <td>Dinner</td>\n",
       "      <td>2</td>\n",
       "    </tr>\n",
       "    <tr>\n",
       "      <th>4</th>\n",
       "      <td>24.59</td>\n",
       "      <td>3.61</td>\n",
       "      <td>Female</td>\n",
       "      <td>No</td>\n",
       "      <td>Sun</td>\n",
       "      <td>Dinner</td>\n",
       "      <td>4</td>\n",
       "    </tr>\n",
       "  </tbody>\n",
       "</table>\n",
       "</div>"
      ],
      "text/plain": [
       "   total_bill   tip     sex smoker  day    time  size\n",
       "0       16.99  1.01  Female     No  Sun  Dinner     2\n",
       "1       10.34  1.66    Male     No  Sun  Dinner     3\n",
       "2       21.01  3.50    Male     No  Sun  Dinner     3\n",
       "3       23.68  3.31    Male     No  Sun  Dinner     2\n",
       "4       24.59  3.61  Female     No  Sun  Dinner     4"
      ]
     },
     "execution_count": 3,
     "metadata": {},
     "output_type": "execute_result"
    }
   ],
   "source": [
    "df.head()"
   ]
  },
  {
   "cell_type": "markdown",
   "id": "7f49d0aa",
   "metadata": {},
   "source": [
    "### 1. What is the average total_bill for each day?"
   ]
  },
  {
   "cell_type": "code",
   "execution_count": 4,
   "id": "dbe82e54",
   "metadata": {},
   "outputs": [
    {
     "data": {
      "text/plain": [
       "day\n",
       "Thur    17.682742\n",
       "Fri     17.151579\n",
       "Sat     20.441379\n",
       "Sun     21.410000\n",
       "Name: total_bill, dtype: float64"
      ]
     },
     "execution_count": 4,
     "metadata": {},
     "output_type": "execute_result"
    }
   ],
   "source": [
    "df.groupby('day')['total_bill'].mean()"
   ]
  },
  {
   "cell_type": "markdown",
   "id": "8b546b5f",
   "metadata": {},
   "source": [
    "### 2.What is the total tip given by sex?"
   ]
  },
  {
   "cell_type": "code",
   "execution_count": 5,
   "id": "0c124654",
   "metadata": {},
   "outputs": [
    {
     "data": {
      "text/plain": [
       "sex\n",
       "Male      3256.82\n",
       "Female    1570.95\n",
       "Name: total_bill, dtype: float64"
      ]
     },
     "execution_count": 5,
     "metadata": {},
     "output_type": "execute_result"
    }
   ],
   "source": [
    "df.groupby('sex')['total_bill'].sum()"
   ]
  },
  {
   "cell_type": "markdown",
   "id": "40def763",
   "metadata": {},
   "source": [
    "### 3. How does the average total_bill differ between smokers and non-smokers?"
   ]
  },
  {
   "cell_type": "code",
   "execution_count": 6,
   "id": "4894f3e6",
   "metadata": {},
   "outputs": [
    {
     "data": {
      "text/plain": [
       "smoker\n",
       "Yes    20.756344\n",
       "No     19.188278\n",
       "Name: total_bill, dtype: float64"
      ]
     },
     "execution_count": 6,
     "metadata": {},
     "output_type": "execute_result"
    }
   ],
   "source": [
    "df.groupby('smoker')['total_bill'].mean()"
   ]
  },
  {
   "cell_type": "markdown",
   "id": "49c5c620",
   "metadata": {},
   "source": [
    "### 4. What is the average tip given for each size of party?"
   ]
  },
  {
   "cell_type": "code",
   "execution_count": 7,
   "id": "4fc47bab",
   "metadata": {},
   "outputs": [
    {
     "data": {
      "text/plain": [
       "size\n",
       "1    1.437500\n",
       "2    2.582308\n",
       "3    3.393158\n",
       "4    4.135405\n",
       "5    4.028000\n",
       "6    5.225000\n",
       "Name: tip, dtype: float64"
      ]
     },
     "execution_count": 7,
     "metadata": {},
     "output_type": "execute_result"
    }
   ],
   "source": [
    "df.groupby(\"size\")['tip'].mean()"
   ]
  },
  {
   "cell_type": "markdown",
   "id": "318624e8",
   "metadata": {},
   "source": [
    "### 5. What is the average total_bill and tip for each time (lunch vs. dinner)?"
   ]
  },
  {
   "cell_type": "code",
   "execution_count": 10,
   "id": "4a09c5da",
   "metadata": {},
   "outputs": [
    {
     "name": "stderr",
     "output_type": "stream",
     "text": [
      "C:\\Users\\HP\\AppData\\Local\\Temp\\ipykernel_31020\\3726857465.py:1: FutureWarning: Indexing with multiple keys (implicitly converted to a tuple of keys) will be deprecated, use a list instead.\n",
      "  df.groupby('time')['total_bill','tip'].mean()\n"
     ]
    },
    {
     "data": {
      "text/html": [
       "<div>\n",
       "<style scoped>\n",
       "    .dataframe tbody tr th:only-of-type {\n",
       "        vertical-align: middle;\n",
       "    }\n",
       "\n",
       "    .dataframe tbody tr th {\n",
       "        vertical-align: top;\n",
       "    }\n",
       "\n",
       "    .dataframe thead th {\n",
       "        text-align: right;\n",
       "    }\n",
       "</style>\n",
       "<table border=\"1\" class=\"dataframe\">\n",
       "  <thead>\n",
       "    <tr style=\"text-align: right;\">\n",
       "      <th></th>\n",
       "      <th>total_bill</th>\n",
       "      <th>tip</th>\n",
       "    </tr>\n",
       "    <tr>\n",
       "      <th>time</th>\n",
       "      <th></th>\n",
       "      <th></th>\n",
       "    </tr>\n",
       "  </thead>\n",
       "  <tbody>\n",
       "    <tr>\n",
       "      <th>Lunch</th>\n",
       "      <td>17.168676</td>\n",
       "      <td>2.728088</td>\n",
       "    </tr>\n",
       "    <tr>\n",
       "      <th>Dinner</th>\n",
       "      <td>20.797159</td>\n",
       "      <td>3.102670</td>\n",
       "    </tr>\n",
       "  </tbody>\n",
       "</table>\n",
       "</div>"
      ],
      "text/plain": [
       "        total_bill       tip\n",
       "time                        \n",
       "Lunch    17.168676  2.728088\n",
       "Dinner   20.797159  3.102670"
      ]
     },
     "execution_count": 10,
     "metadata": {},
     "output_type": "execute_result"
    }
   ],
   "source": [
    "df.groupby('time')['total_bill','tip'].mean()"
   ]
  },
  {
   "cell_type": "markdown",
   "id": "e5d58c36",
   "metadata": {},
   "source": [
    "### 6. How does the average total_bill vary by day and size of the party?"
   ]
  },
  {
   "cell_type": "code",
   "execution_count": 12,
   "id": "872092f8",
   "metadata": {},
   "outputs": [
    {
     "data": {
      "text/plain": [
       "day   size\n",
       "Thur  1       10.070000\n",
       "      2       15.156875\n",
       "      3       19.160000\n",
       "      4       29.950000\n",
       "      5       41.190000\n",
       "      6       30.383333\n",
       "Fri   1        8.580000\n",
       "      2       16.321875\n",
       "      3       15.980000\n",
       "      4       40.170000\n",
       "      5        0.000000\n",
       "      6        0.000000\n",
       "Sat   1        5.160000\n",
       "      2       16.837170\n",
       "      3       25.509444\n",
       "      4       29.876154\n",
       "      5       28.150000\n",
       "      6        0.000000\n",
       "Sun   1        0.000000\n",
       "      2       17.560000\n",
       "      3       22.184000\n",
       "      4       26.688333\n",
       "      5       27.000000\n",
       "      6       48.170000\n",
       "Name: total_bill, dtype: float64"
      ]
     },
     "execution_count": 12,
     "metadata": {},
     "output_type": "execute_result"
    }
   ],
   "source": [
    "df.groupby(['day','size'])['total_bill'].mean().fillna(0)"
   ]
  },
  {
   "cell_type": "markdown",
   "id": "95e26a97",
   "metadata": {},
   "source": [
    "### 7. What is the total tip given on each day of the week?"
   ]
  },
  {
   "cell_type": "code",
   "execution_count": 13,
   "id": "ef7d41e7",
   "metadata": {},
   "outputs": [
    {
     "data": {
      "text/plain": [
       "day\n",
       "Thur    1096.33\n",
       "Fri      325.88\n",
       "Sat     1778.40\n",
       "Sun     1627.16\n",
       "Name: total_bill, dtype: float64"
      ]
     },
     "execution_count": 13,
     "metadata": {},
     "output_type": "execute_result"
    }
   ],
   "source": [
    "df.groupby('day')['total_bill'].sum()"
   ]
  },
  {
   "cell_type": "markdown",
   "id": "2bda8905",
   "metadata": {},
   "source": [
    "### 8. How does the average tip vary between smokers and non-smokers across different days?"
   ]
  },
  {
   "cell_type": "code",
   "execution_count": 14,
   "id": "4952ce23",
   "metadata": {},
   "outputs": [
    {
     "data": {
      "text/plain": [
       "smoker  day \n",
       "Yes     Thur    3.030000\n",
       "        Fri     2.714000\n",
       "        Sat     2.875476\n",
       "        Sun     3.516842\n",
       "No      Thur    2.673778\n",
       "        Fri     2.812500\n",
       "        Sat     3.102889\n",
       "        Sun     3.167895\n",
       "Name: tip, dtype: float64"
      ]
     },
     "execution_count": 14,
     "metadata": {},
     "output_type": "execute_result"
    }
   ],
   "source": [
    "df.groupby(['smoker','day'])['tip'].mean()"
   ]
  },
  {
   "cell_type": "markdown",
   "id": "53b48284",
   "metadata": {},
   "source": [
    "### 9. What is the maximum total_bill for each size of party?"
   ]
  },
  {
   "cell_type": "code",
   "execution_count": 15,
   "id": "dbd511b8",
   "metadata": {},
   "outputs": [
    {
     "data": {
      "text/plain": [
       "size\n",
       "1    10.07\n",
       "2    40.55\n",
       "3    50.81\n",
       "4    48.33\n",
       "5    41.19\n",
       "6    48.17\n",
       "Name: total_bill, dtype: float64"
      ]
     },
     "execution_count": 15,
     "metadata": {},
     "output_type": "execute_result"
    }
   ],
   "source": [
    "df.groupby('size')['total_bill'].max()"
   ]
  },
  {
   "cell_type": "markdown",
   "id": "461f3690",
   "metadata": {},
   "source": [
    "### 10. How does the average tip change with size of the party and time of day?"
   ]
  },
  {
   "cell_type": "code",
   "execution_count": 18,
   "id": "d34a83f3",
   "metadata": {},
   "outputs": [
    {
     "data": {
      "text/plain": [
       "time    size\n",
       "Lunch   1       1.875000\n",
       "        2       2.423077\n",
       "        3       2.754000\n",
       "        4       4.218000\n",
       "        5       5.000000\n",
       "        6       5.300000\n",
       "Dinner  1       1.000000\n",
       "        2       2.661923\n",
       "        3       3.490000\n",
       "        4       4.122500\n",
       "        5       3.785000\n",
       "        6       5.000000\n",
       "Name: tip, dtype: float64"
      ]
     },
     "execution_count": 18,
     "metadata": {},
     "output_type": "execute_result"
    }
   ],
   "source": [
    "df.groupby(['time','size'])['tip'].mean()"
   ]
  },
  {
   "cell_type": "code",
   "execution_count": null,
   "id": "77dd06e6",
   "metadata": {},
   "outputs": [],
   "source": []
  }
 ],
 "metadata": {
  "kernelspec": {
   "display_name": "Python 3 (ipykernel)",
   "language": "python",
   "name": "python3"
  },
  "language_info": {
   "codemirror_mode": {
    "name": "ipython",
    "version": 3
   },
   "file_extension": ".py",
   "mimetype": "text/x-python",
   "name": "python",
   "nbconvert_exporter": "python",
   "pygments_lexer": "ipython3",
   "version": "3.9.13"
  }
 },
 "nbformat": 4,
 "nbformat_minor": 5
}
